{
 "cells": [
  {
   "cell_type": "markdown",
   "metadata": {},
   "source": [
    "# INSTALLING LIBRARIES"
   ]
  },
  {
   "cell_type": "code",
   "execution_count": 1,
   "metadata": {},
   "outputs": [
    {
     "name": "stdout",
     "output_type": "stream",
     "text": [
      "Requirement already satisfied: requests in c:\\users\\hassan\\miniconda3\\lib\\site-packages (2.32.3)\n",
      "Requirement already satisfied: beautifulsoup4 in c:\\users\\hassan\\miniconda3\\lib\\site-packages (4.13.3)\n",
      "Requirement already satisfied: charset-normalizer<4,>=2 in c:\\users\\hassan\\miniconda3\\lib\\site-packages (from requests) (3.3.2)\n",
      "Requirement already satisfied: idna<4,>=2.5 in c:\\users\\hassan\\miniconda3\\lib\\site-packages (from requests) (3.7)\n",
      "Requirement already satisfied: urllib3<3,>=1.21.1 in c:\\users\\hassan\\miniconda3\\lib\\site-packages (from requests) (2.3.0)\n",
      "Requirement already satisfied: certifi>=2017.4.17 in c:\\users\\hassan\\miniconda3\\lib\\site-packages (from requests) (2025.1.31)\n",
      "Requirement already satisfied: soupsieve>1.2 in c:\\users\\hassan\\miniconda3\\lib\\site-packages (from beautifulsoup4) (2.6)\n",
      "Requirement already satisfied: typing-extensions>=4.0.0 in c:\\users\\hassan\\miniconda3\\lib\\site-packages (from beautifulsoup4) (4.12.2)\n",
      "Note: you may need to restart the kernel to use updated packages.\n"
     ]
    }
   ],
   "source": [
    "%pip install requests beautifulsoup4\n"
   ]
  },
  {
   "cell_type": "markdown",
   "metadata": {},
   "source": [
    "## Importing libraries"
   ]
  },
  {
   "cell_type": "code",
   "execution_count": 4,
   "metadata": {},
   "outputs": [],
   "source": [
    "import requests \n",
    "from bs4 import BeautifulSoup"
   ]
  },
  {
   "cell_type": "markdown",
   "metadata": {},
   "source": [
    "## Creating lists to save the data "
   ]
  },
  {
   "cell_type": "code",
   "execution_count": 5,
   "metadata": {},
   "outputs": [],
   "source": [
    "name_list=[]\n",
    "reviews_list=[]\n",
    "price_list=[]\n",
    "desc_list=[]\n"
   ]
  },
  {
   "cell_type": "markdown",
   "metadata": {},
   "source": [
    "## setting base url "
   ]
  },
  {
   "cell_type": "code",
   "execution_count": 6,
   "metadata": {},
   "outputs": [],
   "source": [
    "base_url= f\"https://www.airbnb.com/s/Lahore/homes?refinement_paths%5B%5D=%2Fhomes&flexible_trip_lengths%5B%5D=one_week&monthly_start_date=2025-04-01&monthly_length=3&monthly_end_date=2025-07-01&price_filter_input_type=0&channel=EXPLORE&place_id=ChIJ2QeB5YMEGTkRYiR-zGy-OsI&date_picker_type=calendar&source=structured_search_input_header&search_type=AUTOSUGGEST\""
   ]
  },
  {
   "cell_type": "markdown",
   "metadata": {},
   "source": [
    "## Getting url loaded for data extraction"
   ]
  },
  {
   "cell_type": "code",
   "execution_count": 7,
   "metadata": {},
   "outputs": [],
   "source": [
    "r= requests.get(base_url)"
   ]
  },
  {
   "cell_type": "markdown",
   "metadata": {},
   "source": [
    "## Using beautiful soup to parse the text obtained from website"
   ]
  },
  {
   "cell_type": "code",
   "execution_count": 8,
   "metadata": {},
   "outputs": [],
   "source": [
    "soup= BeautifulSoup(r.text,\"html.parser\")"
   ]
  },
  {
   "cell_type": "markdown",
   "metadata": {},
   "source": [
    "## Applying loop to scrap names, prices, reviews and descriptions of rooms"
   ]
  },
  {
   "cell_type": "code",
   "execution_count": 9,
   "metadata": {},
   "outputs": [],
   "source": [
    "try:\n",
    "    for k in range(0,240):  # setting range inorder to avoid mis matching of elemnts in name_list price_list reviews_list and desc_list\n",
    "        \n",
    "            np = soup.find(\"a\",{\"aria-label\":\"Next\"}) # Next page url\n",
    "            cnp=\"https://www.airbnb.com\" + np.get(\"href\") # concatenation of base url and next page url\n",
    "            \n",
    "            # Getting all the names of the hotels using div and class\n",
    "            name= soup.find_all(\"div\",{\"class\":\"t1jojoys atm_g3_1kw7nm4 atm_ks_15vqwwr atm_sq_1l2sidv atm_9s_cj1kg8 atm_6w_1e54zos atm_fy_1vgr820 atm_7l_jt7fhx atm_cs_10d11i2 atm_w4_1eetg7c atm_ks_zryt35__1rgatj2 dir dir-ltr\"})\n",
    "\n",
    "            \n",
    "            # saving scraped names in name_list\n",
    "            for i in name:\n",
    "                txt= i.text\n",
    "                name_list.append(txt)\n",
    "                \n",
    "            # Now extracting prices\n",
    "            prices = soup.find_all(\"span\",{\"class\":\"_1qgfaxb1\"})\n",
    "\n",
    "            # appending prices in price_list\n",
    "            for price in prices:\n",
    "                p= price.text\n",
    "                price_list.append(p)\n",
    "\n",
    "            # Now extracting reviews\n",
    "\n",
    "            reviews= soup.find_all(\"span\",{\"class\":\"r4a59j5 atm_h_1h6ojuz atm_9s_1txwivl atm_7l_jt7fhx atm_84_evh4rp atm_mk_h2mmj6 atm_mj_glywfm dir dir-ltr\"})\n",
    "\n",
    "            for review in reviews:\n",
    "                rev= review.text\n",
    "                reviews_list.append(rev)\n",
    "\n",
    "            #Now extracting description of rooms\n",
    "\n",
    "            descriptions = soup.find_all(\"div\",{\"class\":\"fb4nyux atm_da_cbdd7d s1cjsi4j atm_g3_1kw7nm4 atm_ks_15vqwwr atm_sq_1l2sidv atm_9s_cj1kg8 atm_6w_1e54zos atm_fy_kb7nvz atm_7l_1he744i atm_ks_zryt35__1rgatj2 dir dir-ltr\"})\n",
    "\n",
    "            for description in descriptions:\n",
    "                 desc = description.text\n",
    "                 desc_list.append(desc)\n",
    "\n",
    "\n",
    "\n",
    "            \n",
    "            base_url = cnp # cnp = complete next page url\n",
    "            r=requests.get(base_url)\n",
    "            soup= BeautifulSoup(r.text,\"html.parser\")\n",
    "\n",
    "except: pass    \n",
    "\n"
   ]
  },
  {
   "cell_type": "markdown",
   "metadata": {},
   "source": [
    "## Slicing the list inorder to keep values count equal"
   ]
  },
  {
   "cell_type": "code",
   "execution_count": null,
   "metadata": {},
   "outputs": [
    {
     "name": "stdout",
     "output_type": "stream",
     "text": [
      "249\n",
      "249\n",
      "249\n"
     ]
    }
   ],
   "source": [
    "n_l= name_list[:249]\n",
    "p_l= price_list[:249]\n",
    "d_l = desc_list[:249]\n",
    "print(len(n_l))\n",
    "print(len(p_l))\n",
    "print(len(d_l))"
   ]
  },
  {
   "cell_type": "markdown",
   "metadata": {},
   "source": [
    "# Import pandas to make a dataframe\n",
    "\n"
   ]
  },
  {
   "cell_type": "code",
   "execution_count": 15,
   "metadata": {},
   "outputs": [
    {
     "data": {
      "text/html": [
       "<div>\n",
       "<style scoped>\n",
       "    .dataframe tbody tr th:only-of-type {\n",
       "        vertical-align: middle;\n",
       "    }\n",
       "\n",
       "    .dataframe tbody tr th {\n",
       "        vertical-align: top;\n",
       "    }\n",
       "\n",
       "    .dataframe thead th {\n",
       "        text-align: right;\n",
       "    }\n",
       "</style>\n",
       "<table border=\"1\" class=\"dataframe\">\n",
       "  <thead>\n",
       "    <tr style=\"text-align: right;\">\n",
       "      <th></th>\n",
       "      <th>Name</th>\n",
       "      <th>Prices</th>\n",
       "      <th>Reviews</th>\n",
       "      <th>Description</th>\n",
       "    </tr>\n",
       "  </thead>\n",
       "  <tbody>\n",
       "    <tr>\n",
       "      <th>0</th>\n",
       "      <td>Condo in Lahore</td>\n",
       "      <td>$27 $23 night$23 per night, originally $27</td>\n",
       "      <td>4.92 out of 5 average rating,  83 reviews4.92 ...</td>\n",
       "      <td>Arteo Cozy City-Center Studio in Gulberg Beige</td>\n",
       "    </tr>\n",
       "    <tr>\n",
       "      <th>1</th>\n",
       "      <td>Condo in Lahore</td>\n",
       "      <td>$26 $22 night$22 per night, originally $26</td>\n",
       "      <td>4.88 out of 5 average rating,  52 reviews4.88 ...</td>\n",
       "      <td>Free cancellationFree cancellation</td>\n",
       "    </tr>\n",
       "    <tr>\n",
       "      <th>2</th>\n",
       "      <td>Condo in Lahore</td>\n",
       "      <td>$39 $35 night$35 per night, originally $39</td>\n",
       "      <td>5.0 out of 5 average rating,  10 reviews5.0 (10)</td>\n",
       "      <td>Mar 16 – 21Mar 16 – 21</td>\n",
       "    </tr>\n",
       "    <tr>\n",
       "      <th>3</th>\n",
       "      <td>Apartment in Lahore</td>\n",
       "      <td>$47 $38 night$38 per night, originally $47</td>\n",
       "      <td>5.0 out of 5 average rating,  30 reviews5.0 (30)</td>\n",
       "      <td>Arteo Downtown Cozy Studio in the Heart of Gul...</td>\n",
       "    </tr>\n",
       "    <tr>\n",
       "      <th>4</th>\n",
       "      <td>Apartment in Lahore</td>\n",
       "      <td>$65 $52 night$52 per night, originally $65</td>\n",
       "      <td>4.88 out of 5 average rating,  76 reviews4.88 ...</td>\n",
       "      <td>1 king bed1 king bed</td>\n",
       "    </tr>\n",
       "  </tbody>\n",
       "</table>\n",
       "</div>"
      ],
      "text/plain": [
       "                  Name                                      Prices  \\\n",
       "0      Condo in Lahore  $27 $23 night$23 per night, originally $27   \n",
       "1      Condo in Lahore  $26 $22 night$22 per night, originally $26   \n",
       "2      Condo in Lahore  $39 $35 night$35 per night, originally $39   \n",
       "3  Apartment in Lahore  $47 $38 night$38 per night, originally $47   \n",
       "4  Apartment in Lahore  $65 $52 night$52 per night, originally $65   \n",
       "\n",
       "                                             Reviews  \\\n",
       "0  4.92 out of 5 average rating,  83 reviews4.92 ...   \n",
       "1  4.88 out of 5 average rating,  52 reviews4.88 ...   \n",
       "2   5.0 out of 5 average rating,  10 reviews5.0 (10)   \n",
       "3   5.0 out of 5 average rating,  30 reviews5.0 (30)   \n",
       "4  4.88 out of 5 average rating,  76 reviews4.88 ...   \n",
       "\n",
       "                                         Description  \n",
       "0     Arteo Cozy City-Center Studio in Gulberg Beige  \n",
       "1                 Free cancellationFree cancellation  \n",
       "2                             Mar 16 – 21Mar 16 – 21  \n",
       "3  Arteo Downtown Cozy Studio in the Heart of Gul...  \n",
       "4                               1 king bed1 king bed  "
      ]
     },
     "execution_count": 15,
     "metadata": {},
     "output_type": "execute_result"
    }
   ],
   "source": [
    "import pandas as pd\n",
    "df= pd.DataFrame({\"Name\":n_l,\"Prices\":p_l,\"Reviews\":reviews_list,\"Description\":d_l})\n",
    "df.head()"
   ]
  },
  {
   "cell_type": "markdown",
   "metadata": {},
   "source": [
    "# Converting dataframe into csv (Comma Seperated File)"
   ]
  },
  {
   "cell_type": "code",
   "execution_count": 13,
   "metadata": {},
   "outputs": [],
   "source": [
    "df.to_csv(\"Airbnb.csv\")"
   ]
  },
  {
   "cell_type": "markdown",
   "metadata": {},
   "source": [
    "# Converting dataframe into excel file"
   ]
  },
  {
   "cell_type": "code",
   "execution_count": 14,
   "metadata": {},
   "outputs": [],
   "source": [
    "#%pip install openpyxl\n",
    "df.to_excel(\"Airbnb.xlsx\",index=False)"
   ]
  }
 ],
 "metadata": {
  "kernelspec": {
   "display_name": "base",
   "language": "python",
   "name": "python3"
  },
  "language_info": {
   "codemirror_mode": {
    "name": "ipython",
    "version": 3
   },
   "file_extension": ".py",
   "mimetype": "text/x-python",
   "name": "python",
   "nbconvert_exporter": "python",
   "pygments_lexer": "ipython3",
   "version": "3.12.9"
  }
 },
 "nbformat": 4,
 "nbformat_minor": 2
}
